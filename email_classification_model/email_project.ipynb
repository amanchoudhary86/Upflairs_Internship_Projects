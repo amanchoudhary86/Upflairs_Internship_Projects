{
 "cells": [
  {
   "cell_type": "markdown",
   "id": "9cd10312-f9e0-4bc4-9f8f-fe751bb7fea7",
   "metadata": {},
   "source": [
    "# Email Classification Project ---- Spam/Ham"
   ]
  },
  {
   "cell_type": "code",
   "execution_count": 1,
   "id": "829f5dbb-94bb-4cfa-81d4-998980ecb9ce",
   "metadata": {},
   "outputs": [],
   "source": [
    "\n",
    "import seaborn as sns\n",
    "import matplotlib.pyplot as plt\n",
    "import pandas as pd "
   ]
  },
  {
   "cell_type": "code",
   "execution_count": 2,
   "id": "7db79e51-2dcc-45ad-ba81-a418422f4092",
   "metadata": {},
   "outputs": [],
   "source": [
    "# reading data from text file \n",
    "with open('SMSSpamCollection.txt','r') as file: \n",
    "    data = file.read()"
   ]
  },
  {
   "cell_type": "code",
   "execution_count": 3,
   "id": "6b5cc76b-0dee-4c3a-b424-fbbc3895af54",
   "metadata": {},
   "outputs": [],
   "source": [
    "temp = data.split('\\n')"
   ]
  },
  {
   "cell_type": "code",
   "execution_count": 4,
   "id": "7ce564d4-a8bd-42ee-bdd6-a3f8685799c0",
   "metadata": {},
   "outputs": [
    {
     "name": "stdout",
     "output_type": "stream",
     "text": [
      "No. of emails :  5575\n"
     ]
    }
   ],
   "source": [
    "print(\"No. of emails : \",len(temp) )"
   ]
  },
  {
   "cell_type": "code",
   "execution_count": 5,
   "id": "23d9a4f0-9538-4075-bba2-98278bc687dd",
   "metadata": {},
   "outputs": [],
   "source": [
    "x = [] \n",
    "y = [] \n",
    "for email_with_label in temp: \n",
    "    temp_emails = email_with_label.split('\\t') \n",
    "    if len(temp_emails) == 2 : \n",
    "        x.append(temp_emails[1])\n",
    "        y.append(temp_emails[0])\n",
    "        \n",
    "    "
   ]
  },
  {
   "cell_type": "code",
   "execution_count": 6,
   "id": "e7ce1c60-5b65-48c5-9043-f8bc4b667b9c",
   "metadata": {},
   "outputs": [
    {
     "data": {
      "text/plain": [
       "(5574, 5574)"
      ]
     },
     "execution_count": 6,
     "metadata": {},
     "output_type": "execute_result"
    }
   ],
   "source": [
    "len(x),len(y)"
   ]
  },
  {
   "cell_type": "code",
   "execution_count": 7,
   "id": "6de80340-fc43-41b9-b1b3-2748a585b235",
   "metadata": {},
   "outputs": [
    {
     "data": {
      "text/html": [
       "<div>\n",
       "<style scoped>\n",
       "    .dataframe tbody tr th:only-of-type {\n",
       "        vertical-align: middle;\n",
       "    }\n",
       "\n",
       "    .dataframe tbody tr th {\n",
       "        vertical-align: top;\n",
       "    }\n",
       "\n",
       "    .dataframe thead th {\n",
       "        text-align: right;\n",
       "    }\n",
       "</style>\n",
       "<table border=\"1\" class=\"dataframe\">\n",
       "  <thead>\n",
       "    <tr style=\"text-align: right;\">\n",
       "      <th></th>\n",
       "      <th>email_message</th>\n",
       "      <th>label</th>\n",
       "    </tr>\n",
       "  </thead>\n",
       "  <tbody>\n",
       "    <tr>\n",
       "      <th>0</th>\n",
       "      <td>Go until jurong point, crazy.. Available only ...</td>\n",
       "      <td>ham</td>\n",
       "    </tr>\n",
       "    <tr>\n",
       "      <th>1</th>\n",
       "      <td>Ok lar... Joking wif u oni...</td>\n",
       "      <td>ham</td>\n",
       "    </tr>\n",
       "    <tr>\n",
       "      <th>2</th>\n",
       "      <td>Free entry in 2 a wkly comp to win FA Cup fina...</td>\n",
       "      <td>spam</td>\n",
       "    </tr>\n",
       "    <tr>\n",
       "      <th>3</th>\n",
       "      <td>U dun say so early hor... U c already then say...</td>\n",
       "      <td>ham</td>\n",
       "    </tr>\n",
       "    <tr>\n",
       "      <th>4</th>\n",
       "      <td>Nah I don't think he goes to usf, he lives aro...</td>\n",
       "      <td>ham</td>\n",
       "    </tr>\n",
       "  </tbody>\n",
       "</table>\n",
       "</div>"
      ],
      "text/plain": [
       "                                       email_message label\n",
       "0  Go until jurong point, crazy.. Available only ...   ham\n",
       "1                      Ok lar... Joking wif u oni...   ham\n",
       "2  Free entry in 2 a wkly comp to win FA Cup fina...  spam\n",
       "3  U dun say so early hor... U c already then say...   ham\n",
       "4  Nah I don't think he goes to usf, he lives aro...   ham"
      ]
     },
     "execution_count": 7,
     "metadata": {},
     "output_type": "execute_result"
    }
   ],
   "source": [
    "# dataframe\n",
    "dt = {'email_message':x,\"label\":y}\n",
    "email_data = pd.DataFrame(dt)\n",
    "email_data.head()"
   ]
  },
  {
   "cell_type": "code",
   "execution_count": 8,
   "id": "d1e1eeb0-8163-4617-b387-56404a883de7",
   "metadata": {},
   "outputs": [],
   "source": [
    "# df2 = pd.read_table('SMSSpamCollection.txt',header=None)\n",
    "# df2.columns = ['label','email_message']"
   ]
  },
  {
   "cell_type": "code",
   "execution_count": 9,
   "id": "543bca2d-587d-422c-b667-530b6dc361b0",
   "metadata": {},
   "outputs": [],
   "source": [
    "# df2.head()"
   ]
  },
  {
   "cell_type": "code",
   "execution_count": 10,
   "id": "cc8c81ec-d5ab-4ae2-9ea7-208032dd168f",
   "metadata": {},
   "outputs": [
    {
     "data": {
      "text/plain": [
       "label\n",
       "ham     4827\n",
       "spam     747\n",
       "Name: count, dtype: int64"
      ]
     },
     "execution_count": 10,
     "metadata": {},
     "output_type": "execute_result"
    }
   ],
   "source": [
    "# problem statment is reg or classifcication \n",
    "# ans is classification \n",
    "# we need to clasify the ham and spam\n",
    "\n",
    "# is the data is blancnce or imbalacne\n",
    "\n",
    "email_data['label'].value_counts()"
   ]
  },
  {
   "cell_type": "code",
   "execution_count": 11,
   "id": "b153eae1-1176-47ce-9a9d-4595b909b56c",
   "metadata": {},
   "outputs": [],
   "source": [
    "# 80% are ham\n",
    "# 20% are spam\n",
    "# now this is imbalanced ratio\n",
    "# we need to bring it to 60 - 50 then we can say it is trained well\n",
    "\n",
    "\n",
    "# how to do that, we can add the sapm email to equal the ham, incr or decr to make it balanced\n",
    "# now we r going to remove the ham email to equle the spam."
   ]
  },
  {
   "cell_type": "code",
   "execution_count": 12,
   "id": "3948ab34-0886-407c-b591-d51972077a56",
   "metadata": {},
   "outputs": [],
   "source": [
    "ham = email_data[email_data[\"label\"]== \"ham\"]\n",
    "spam = email_data[email_data[\"label\"]== \"spam\"]"
   ]
  },
  {
   "cell_type": "code",
   "execution_count": 13,
   "id": "54a0e12f-077e-4b8a-aeb1-7b5011fa586a",
   "metadata": {},
   "outputs": [
    {
     "data": {
      "text/html": [
       "<div>\n",
       "<style scoped>\n",
       "    .dataframe tbody tr th:only-of-type {\n",
       "        vertical-align: middle;\n",
       "    }\n",
       "\n",
       "    .dataframe tbody tr th {\n",
       "        vertical-align: top;\n",
       "    }\n",
       "\n",
       "    .dataframe thead th {\n",
       "        text-align: right;\n",
       "    }\n",
       "</style>\n",
       "<table border=\"1\" class=\"dataframe\">\n",
       "  <thead>\n",
       "    <tr style=\"text-align: right;\">\n",
       "      <th></th>\n",
       "      <th>email_message</th>\n",
       "      <th>label</th>\n",
       "    </tr>\n",
       "  </thead>\n",
       "  <tbody>\n",
       "    <tr>\n",
       "      <th>3257</th>\n",
       "      <td>Who were those people ? Were you in a tour ? I...</td>\n",
       "      <td>ham</td>\n",
       "    </tr>\n",
       "    <tr>\n",
       "      <th>2022</th>\n",
       "      <td>I don't have anybody's number, I still haven't...</td>\n",
       "      <td>ham</td>\n",
       "    </tr>\n",
       "    <tr>\n",
       "      <th>4742</th>\n",
       "      <td>Many more happy returns of the day. I wish you...</td>\n",
       "      <td>ham</td>\n",
       "    </tr>\n",
       "    <tr>\n",
       "      <th>3648</th>\n",
       "      <td>Hey babe, my friend had to cancel, still up fo...</td>\n",
       "      <td>ham</td>\n",
       "    </tr>\n",
       "    <tr>\n",
       "      <th>3016</th>\n",
       "      <td>&amp;lt;#&amp;gt;  mins but i had to stop somewhere f...</td>\n",
       "      <td>ham</td>\n",
       "    </tr>\n",
       "    <tr>\n",
       "      <th>...</th>\n",
       "      <td>...</td>\n",
       "      <td>...</td>\n",
       "    </tr>\n",
       "    <tr>\n",
       "      <th>1293</th>\n",
       "      <td>Da my birthdate in certificate is in april but...</td>\n",
       "      <td>ham</td>\n",
       "    </tr>\n",
       "    <tr>\n",
       "      <th>1363</th>\n",
       "      <td>What does the dance river do?</td>\n",
       "      <td>ham</td>\n",
       "    </tr>\n",
       "    <tr>\n",
       "      <th>2279</th>\n",
       "      <td>Hmm...Bad news...Hype park plaza $700 studio t...</td>\n",
       "      <td>ham</td>\n",
       "    </tr>\n",
       "    <tr>\n",
       "      <th>862</th>\n",
       "      <td>Your brother is a genius</td>\n",
       "      <td>ham</td>\n",
       "    </tr>\n",
       "    <tr>\n",
       "      <th>1034</th>\n",
       "      <td>OH MR SHEFFIELD! You wanna play THAT game, oka...</td>\n",
       "      <td>ham</td>\n",
       "    </tr>\n",
       "  </tbody>\n",
       "</table>\n",
       "<p>1000 rows × 2 columns</p>\n",
       "</div>"
      ],
      "text/plain": [
       "                                          email_message label\n",
       "3257  Who were those people ? Were you in a tour ? I...   ham\n",
       "2022  I don't have anybody's number, I still haven't...   ham\n",
       "4742  Many more happy returns of the day. I wish you...   ham\n",
       "3648  Hey babe, my friend had to cancel, still up fo...   ham\n",
       "3016   &lt;#&gt;  mins but i had to stop somewhere f...   ham\n",
       "...                                                 ...   ...\n",
       "1293  Da my birthdate in certificate is in april but...   ham\n",
       "1363                      What does the dance river do?   ham\n",
       "2279  Hmm...Bad news...Hype park plaza $700 studio t...   ham\n",
       "862                            Your brother is a genius   ham\n",
       "1034  OH MR SHEFFIELD! You wanna play THAT game, oka...   ham\n",
       "\n",
       "[1000 rows x 2 columns]"
      ]
     },
     "execution_count": 13,
     "metadata": {},
     "output_type": "execute_result"
    }
   ],
   "source": [
    "ham.sample(1000) #selects random records 1000"
   ]
  },
  {
   "cell_type": "code",
   "execution_count": 14,
   "id": "b16c7f6e-df24-4fd6-b145-e5c93227206f",
   "metadata": {},
   "outputs": [],
   "source": [
    "ham = ham.sample(1000)"
   ]
  },
  {
   "cell_type": "code",
   "execution_count": 15,
   "id": "959e984d-2ab2-4b95-a9e8-d9706b663075",
   "metadata": {},
   "outputs": [
    {
     "data": {
      "text/plain": [
       "((747, 2), (1000, 2))"
      ]
     },
     "execution_count": 15,
     "metadata": {},
     "output_type": "execute_result"
    }
   ],
   "source": [
    "spam.shape, ham.shape"
   ]
  },
  {
   "cell_type": "code",
   "execution_count": 16,
   "id": "4dec2b4f-0480-49c0-9ab6-049d3920e61a",
   "metadata": {},
   "outputs": [
    {
     "data": {
      "text/html": [
       "<div>\n",
       "<style scoped>\n",
       "    .dataframe tbody tr th:only-of-type {\n",
       "        vertical-align: middle;\n",
       "    }\n",
       "\n",
       "    .dataframe tbody tr th {\n",
       "        vertical-align: top;\n",
       "    }\n",
       "\n",
       "    .dataframe thead th {\n",
       "        text-align: right;\n",
       "    }\n",
       "</style>\n",
       "<table border=\"1\" class=\"dataframe\">\n",
       "  <thead>\n",
       "    <tr style=\"text-align: right;\">\n",
       "      <th></th>\n",
       "      <th>email_message</th>\n",
       "      <th>label</th>\n",
       "    </tr>\n",
       "  </thead>\n",
       "  <tbody>\n",
       "    <tr>\n",
       "      <th>3000</th>\n",
       "      <td>Oh, then your phone phoned me but it disconnected</td>\n",
       "      <td>ham</td>\n",
       "    </tr>\n",
       "    <tr>\n",
       "      <th>1184</th>\n",
       "      <td>Am i that much bad to avoid like this?</td>\n",
       "      <td>ham</td>\n",
       "    </tr>\n",
       "    <tr>\n",
       "      <th>1459</th>\n",
       "      <td>Fighting with the world is easy, u either win ...</td>\n",
       "      <td>ham</td>\n",
       "    </tr>\n",
       "    <tr>\n",
       "      <th>5427</th>\n",
       "      <td>Otherwise had part time job na-tuition..</td>\n",
       "      <td>ham</td>\n",
       "    </tr>\n",
       "    <tr>\n",
       "      <th>243</th>\n",
       "      <td>Okay. No no, just shining on. That was meant t...</td>\n",
       "      <td>ham</td>\n",
       "    </tr>\n",
       "  </tbody>\n",
       "</table>\n",
       "</div>"
      ],
      "text/plain": [
       "                                          email_message label\n",
       "3000  Oh, then your phone phoned me but it disconnected   ham\n",
       "1184             Am i that much bad to avoid like this?   ham\n",
       "1459  Fighting with the world is easy, u either win ...   ham\n",
       "5427           Otherwise had part time job na-tuition..   ham\n",
       "243   Okay. No no, just shining on. That was meant t...   ham"
      ]
     },
     "execution_count": 16,
     "metadata": {},
     "output_type": "execute_result"
    }
   ],
   "source": [
    "# going to combine both\n",
    "final_df=pd.concat([ham,spam],axis=0)\n",
    "# 0 means row in here axis, i dont want in col wise, i want it row thats y\n",
    "final_df.head()"
   ]
  },
  {
   "cell_type": "code",
   "execution_count": 17,
   "id": "d69124c8-1f05-473d-8287-85c0e988b03e",
   "metadata": {},
   "outputs": [
    {
     "data": {
      "text/plain": [
       "email_message    0\n",
       "label            0\n",
       "dtype: int64"
      ]
     },
     "execution_count": 17,
     "metadata": {},
     "output_type": "execute_result"
    }
   ],
   "source": [
    "missing_values = final_df.isnull().sum()\n",
    "missing_values\n",
    "# to cross verify is there any missing value are not "
   ]
  },
  {
   "cell_type": "code",
   "execution_count": 18,
   "id": "228239e0-d024-4c05-b171-5f5fae7dfeb9",
   "metadata": {},
   "outputs": [
    {
     "data": {
      "text/plain": [
       "(1747, 2)"
      ]
     },
     "execution_count": 18,
     "metadata": {},
     "output_type": "execute_result"
    }
   ],
   "source": [
    "final_df.shape"
   ]
  },
  {
   "cell_type": "code",
   "execution_count": 19,
   "id": "08700d8f-8c93-445c-8fe8-10ba24da6d77",
   "metadata": {},
   "outputs": [],
   "source": [
    "# Text cleaning \n",
    "# final_df.head()\n",
    "# now we are gonna convert it in the form of 0 and 1\n",
    "# before that we need to clean the \n",
    "import re # regular expression "
   ]
  },
  {
   "cell_type": "code",
   "execution_count": 20,
   "id": "1449d052-f5d0-4362-829c-89f193e02b0b",
   "metadata": {},
   "outputs": [
    {
     "data": {
      "text/plain": [
       "\"Free entry in 2 a wkly comp to win FA Cup final tkts 21st May 2005. Text FA to 87121 to receive entry question(std txt rate)T&C's apply 08452810075over18's\""
      ]
     },
     "execution_count": 20,
     "metadata": {},
     "output_type": "execute_result"
    }
   ],
   "source": [
    "final_df['email_message'][2]\n"
   ]
  },
  {
   "cell_type": "code",
   "execution_count": 21,
   "id": "5e663c7b-9e0e-473f-a9b4-fe91e35c3089",
   "metadata": {},
   "outputs": [],
   "source": [
    "# the indexing is being updated, coz we have combined it\n",
    "# index reassigning \n",
    "final_df.reset_index(drop = True, inplace = True ) #drop will reomove the old"
   ]
  },
  {
   "cell_type": "code",
   "execution_count": 22,
   "id": "eb0d4464-8e5c-47be-a745-2d4b25e06571",
   "metadata": {},
   "outputs": [
    {
     "data": {
      "text/plain": [
       "'Ok.ok ok..then..whats ur todays plan'"
      ]
     },
     "execution_count": 22,
     "metadata": {},
     "output_type": "execute_result"
    }
   ],
   "source": [
    "final_df['email_message'][25]\n"
   ]
  },
  {
   "cell_type": "code",
   "execution_count": 23,
   "id": "15367061-a5ee-4429-94b3-218e8eb45d76",
   "metadata": {},
   "outputs": [
    {
     "data": {
      "text/plain": [
       "'okok okthenwhats ur todays plan'"
      ]
     },
     "execution_count": 23,
     "metadata": {},
     "output_type": "execute_result"
    }
   ],
   "source": [
    "# a-z, A-Z values will be conisidering in the email_messages in oreder to ignore the &,!,@ etc stuff\n",
    "re.sub('[^a-zA-Z ]','',final_df['email_message'][25]).lower() #^ means not \n"
   ]
  },
  {
   "cell_type": "code",
   "execution_count": 24,
   "id": "abe82e68-dbed-43b4-a4df-7606a3edaa04",
   "metadata": {},
   "outputs": [
    {
     "name": "stderr",
     "output_type": "stream",
     "text": [
      "C:\\Users\\ASUS ROG\\AppData\\Local\\Temp\\ipykernel_14348\\374652516.py:7: FutureWarning: ChainedAssignmentError: behaviour will change in pandas 3.0!\n",
      "You are setting values through chained assignment. Currently this works in certain cases, but when using Copy-on-Write (which will become the default behaviour in pandas 3.0) this will never work to update the original DataFrame or Series, because the intermediate object on which we are setting values will behave as a copy.\n",
      "A typical example is when you are setting values in a column of a DataFrame, like:\n",
      "\n",
      "df[\"col\"][row_indexer] = value\n",
      "\n",
      "Use `df.loc[row_indexer, \"col\"] = values` instead, to perform the assignment in a single step and ensure this keeps updating the original `df`.\n",
      "\n",
      "See the caveats in the documentation: https://pandas.pydata.org/pandas-docs/stable/user_guide/indexing.html#returning-a-view-versus-a-copy\n",
      "\n",
      "  final_df['email_message'][i] =  re.sub('[^a-zA-Z ]', '',final_df['email_message'][i]).lower()\n"
     ]
    }
   ],
   "source": [
    "# to final df and apply this operation on all the email\n",
    "# final_df['cleaned_email_message'] = final_df['email_message'].apply(lambda x: re.sub('[^a-zA-Z ]', '', x).lower())\n",
    "# final_df.head()\n",
    "\n",
    "\n",
    "for i in range(len(final_df)):\n",
    "    final_df['email_message'][i] =  re.sub('[^a-zA-Z ]', '',final_df['email_message'][i]).lower()\n",
    "    final_df.head()\n"
   ]
  },
  {
   "cell_type": "code",
   "execution_count": 25,
   "id": "31b61e82-a827-40f7-a6cb-0913fac5ca6c",
   "metadata": {},
   "outputs": [
    {
     "data": {
      "text/plain": [
       "'k im ready  ltgt '"
      ]
     },
     "execution_count": 25,
     "metadata": {},
     "output_type": "execute_result"
    }
   ],
   "source": [
    "final_df['email_message'][392]\n"
   ]
  },
  {
   "cell_type": "code",
   "execution_count": 26,
   "id": "476dfa20-a45d-4eb2-bfae-77f4a1b728dc",
   "metadata": {},
   "outputs": [],
   "source": [
    "# labels = (final_df[\"label\"])\n",
    "labels = list(final_df['label'])\n",
    "temp_labels = [1 if item == \"spam\" else 0 for item in labels]\n",
    "final_df[\"label\"]=temp_labels\n",
    "# labels.head()"
   ]
  },
  {
   "cell_type": "code",
   "execution_count": 27,
   "id": "3bfe5a76-381c-4571-a56f-5af68d283f2c",
   "metadata": {},
   "outputs": [],
   "source": [
    "import pandas as pd\n",
    "import numpy as np\n",
    "from sklearn.feature_extraction.text import CountVectorizer\n",
    "from sklearn.feature_extraction.text import TfidfVectorizer\n",
    "\n"
   ]
  },
  {
   "cell_type": "code",
   "execution_count": 28,
   "id": "5b026a72-03b6-42a9-87e1-367c09d76b56",
   "metadata": {},
   "outputs": [
    {
     "data": {
      "text/plain": [
       "[643,\n",
       " 317,\n",
       " 208,\n",
       " 498,\n",
       " 918,\n",
       " 823,\n",
       " 315,\n",
       " 262,\n",
       " 426,\n",
       " 782,\n",
       " 342,\n",
       " 368,\n",
       " 228,\n",
       " 560,\n",
       " 53,\n",
       " 458,\n",
       " 793,\n",
       " 423,\n",
       " 822,\n",
       " 468,\n",
       " 735,\n",
       " 978,\n",
       " 445,\n",
       " 374,\n",
       " 699,\n",
       " 414,\n",
       " 569,\n",
       " 674,\n",
       " 15,\n",
       " 71,\n",
       " 76,\n",
       " 562,\n",
       " 919,\n",
       " 929,\n",
       " 451,\n",
       " 33,\n",
       " 762,\n",
       " 264,\n",
       " 264,\n",
       " 483,\n",
       " 867,\n",
       " 467,\n",
       " 474,\n",
       " 599,\n",
       " 181,\n",
       " 848,\n",
       " 556,\n",
       " 207,\n",
       " 647,\n",
       " 206,\n",
       " 611,\n",
       " 367,\n",
       " 365,\n",
       " 622,\n",
       " 609,\n",
       " 961,\n",
       " 11,\n",
       " 444,\n",
       " 16,\n",
       " 129,\n",
       " 244,\n",
       " 586,\n",
       " 831,\n",
       " 796,\n",
       " 10,\n",
       " 275,\n",
       " 995,\n",
       " 601,\n",
       " 819,\n",
       " 221,\n",
       " 938,\n",
       " 587,\n",
       " 722,\n",
       " 771,\n",
       " 217,\n",
       " 143,\n",
       " 806,\n",
       " 412,\n",
       " 69,\n",
       " 830,\n",
       " 628,\n",
       " 852,\n",
       " 938,\n",
       " 238,\n",
       " 398,\n",
       " 952,\n",
       " 810,\n",
       " 297,\n",
       " 311,\n",
       " 486,\n",
       " 52,\n",
       " 4,\n",
       " 807,\n",
       " 238,\n",
       " 59,\n",
       " 484,\n",
       " 365,\n",
       " 770,\n",
       " 372,\n",
       " 4,\n",
       " 15,\n",
       " 876,\n",
       " 136,\n",
       " 907,\n",
       " 644,\n",
       " 442,\n",
       " 133,\n",
       " 806,\n",
       " 602,\n",
       " 358,\n",
       " 307,\n",
       " 666,\n",
       " 752,\n",
       " 857,\n",
       " 893,\n",
       " 153,\n",
       " 932,\n",
       " 818,\n",
       " 292,\n",
       " 911,\n",
       " 644,\n",
       " 20,\n",
       " 263,\n",
       " 369,\n",
       " 15,\n",
       " 954,\n",
       " 68,\n",
       " 614,\n",
       " 637,\n",
       " 104,\n",
       " 49,\n",
       " 216,\n",
       " 587,\n",
       " 235,\n",
       " 238,\n",
       " 697,\n",
       " 196,\n",
       " 821,\n",
       " 160,\n",
       " 167,\n",
       " 595,\n",
       " 90,\n",
       " 119,\n",
       " 844,\n",
       " 16,\n",
       " 869,\n",
       " 479,\n",
       " 75,\n",
       " 578,\n",
       " 120,\n",
       " 144,\n",
       " 302,\n",
       " 42,\n",
       " 394,\n",
       " 945,\n",
       " 415,\n",
       " 86,\n",
       " 641,\n",
       " 789,\n",
       " 620,\n",
       " 293,\n",
       " 442,\n",
       " 117,\n",
       " 899,\n",
       " 718,\n",
       " 165,\n",
       " 331,\n",
       " 321,\n",
       " 27,\n",
       " 966,\n",
       " 940,\n",
       " 518,\n",
       " 820,\n",
       " 402,\n",
       " 138,\n",
       " 32,\n",
       " 202,\n",
       " 586,\n",
       " 616,\n",
       " 609,\n",
       " 893,\n",
       " 470,\n",
       " 443,\n",
       " 951,\n",
       " 578,\n",
       " 541,\n",
       " 19,\n",
       " 590,\n",
       " 465,\n",
       " 510,\n",
       " 296,\n",
       " 629,\n",
       " 178,\n",
       " 401,\n",
       " 75,\n",
       " 185,\n",
       " 183,\n",
       " 714,\n",
       " 152,\n",
       " 913,\n",
       " 147,\n",
       " 248,\n",
       " 480,\n",
       " 461,\n",
       " 13,\n",
       " 912,\n",
       " 520,\n",
       " 380,\n",
       " 405,\n",
       " 233,\n",
       " 484,\n",
       " 759,\n",
       " 528,\n",
       " 407,\n",
       " 407,\n",
       " 25,\n",
       " 611,\n",
       " 202,\n",
       " 764,\n",
       " 878,\n",
       " 700,\n",
       " 760,\n",
       " 6,\n",
       " 152,\n",
       " 867,\n",
       " 154,\n",
       " 98,\n",
       " 106,\n",
       " 423,\n",
       " 138,\n",
       " 932,\n",
       " 589,\n",
       " 488,\n",
       " 749,\n",
       " 889,\n",
       " 427,\n",
       " 405,\n",
       " 224,\n",
       " 623,\n",
       " 641,\n",
       " 313,\n",
       " 565,\n",
       " 432,\n",
       " 343,\n",
       " 965,\n",
       " 37,\n",
       " 238,\n",
       " 15,\n",
       " 2,\n",
       " 331]"
      ]
     },
     "execution_count": 28,
     "metadata": {},
     "output_type": "execute_result"
    }
   ],
   "source": [
    "# arr = np.random.randint(1,999,250)\n",
    "arr = list(np.random.randint(1,999,250))\n",
    "arr "
   ]
  },
  {
   "cell_type": "code",
   "execution_count": null,
   "id": "efb6011f-ad63-4f9a-a21a-ddfc0da020e3",
   "metadata": {},
   "outputs": [],
   "source": []
  },
  {
   "cell_type": "code",
   "execution_count": 29,
   "id": "ea3c33fb-5b8d-44a4-837e-4d6b907cd435",
   "metadata": {},
   "outputs": [
    {
     "name": "stdout",
     "output_type": "stream",
     "text": [
      "[0, 0, 1, 1, 1, 0, 0, 1, 1, 1, 1, 1, 1, 1, 0, 1, 0, 0, 1, 1, 0, 1, 0, 1, 0, 1, 0, 1, 0, 0, 1, 1, 0, 0, 0, 0, 1, 1, 1, 0, 0, 0, 1, 0, 0, 1, 1, 0, 0, 1, 0, 0, 0, 1, 0, 0, 0, 1, 1, 0, 1, 1, 0, 1, 1, 0, 0, 0, 0, 0, 1, 0, 1, 0, 0, 0, 1, 1, 0, 1, 1, 1, 1, 1, 1, 1, 1, 0, 0, 1, 1, 1, 0, 1, 0, 1, 0, 1, 1, 1, 0, 1, 1, 0, 1, 1, 0, 1, 1, 1, 0, 1, 1, 0, 0, 0, 1, 1, 1, 0, 1, 1, 0, 0, 0, 1, 1, 1, 0, 1, 0, 1, 0, 0, 1, 0, 1, 0, 1, 0, 0, 1, 0, 1, 1, 0, 0, 0, 1, 1, 1, 1, 1, 1, 0, 0, 1, 0, 0, 1, 0, 1, 0, 0, 1, 0, 0, 0, 0, 1, 1, 1, 1, 1, 1, 1, 1, 1, 1, 0, 0, 1, 0, 0, 1, 0, 0, 1, 0, 1, 1, 0, 1, 0, 0, 0, 0, 1, 1, 0, 0, 1, 1, 0, 0, 1, 1, 1, 0, 0, 1, 0, 1, 0, 0, 0, 0, 1, 1, 1, 1, 1, 1, 1, 0, 1, 1, 1, 0, 1, 1, 0, 1, 0, 0, 0, 0, 1, 0, 0, 0, 0, 1, 0, 0, 0, 1, 0, 1, 0]\n"
     ]
    }
   ],
   "source": [
    "# if even  == 1, odd == 0 using list comprehension  make it quize \n",
    "even_odd_labels = [1 if x % 2 == 0 else 0 for x in arr]\n",
    "print(even_odd_labels)\n",
    "# done"
   ]
  },
  {
   "cell_type": "code",
   "execution_count": 30,
   "id": "c402c857-940e-4561-a4ed-2c58be12d08c",
   "metadata": {},
   "outputs": [
    {
     "data": {
      "text/html": [
       "<div>\n",
       "<style scoped>\n",
       "    .dataframe tbody tr th:only-of-type {\n",
       "        vertical-align: middle;\n",
       "    }\n",
       "\n",
       "    .dataframe tbody tr th {\n",
       "        vertical-align: top;\n",
       "    }\n",
       "\n",
       "    .dataframe thead th {\n",
       "        text-align: right;\n",
       "    }\n",
       "</style>\n",
       "<table border=\"1\" class=\"dataframe\">\n",
       "  <thead>\n",
       "    <tr style=\"text-align: right;\">\n",
       "      <th></th>\n",
       "      <th>email_message</th>\n",
       "      <th>label</th>\n",
       "    </tr>\n",
       "  </thead>\n",
       "  <tbody>\n",
       "    <tr>\n",
       "      <th>0</th>\n",
       "      <td>oh then your phone phoned me but it disconnected</td>\n",
       "      <td>0</td>\n",
       "    </tr>\n",
       "    <tr>\n",
       "      <th>1</th>\n",
       "      <td>am i that much bad to avoid like this</td>\n",
       "      <td>0</td>\n",
       "    </tr>\n",
       "    <tr>\n",
       "      <th>2</th>\n",
       "      <td>fighting with the world is easy u either win o...</td>\n",
       "      <td>0</td>\n",
       "    </tr>\n",
       "    <tr>\n",
       "      <th>3</th>\n",
       "      <td>otherwise had part time job natuition</td>\n",
       "      <td>0</td>\n",
       "    </tr>\n",
       "    <tr>\n",
       "      <th>4</th>\n",
       "      <td>okay no no just shining on that was meant to b...</td>\n",
       "      <td>0</td>\n",
       "    </tr>\n",
       "  </tbody>\n",
       "</table>\n",
       "</div>"
      ],
      "text/plain": [
       "                                       email_message  label\n",
       "0   oh then your phone phoned me but it disconnected      0\n",
       "1              am i that much bad to avoid like this      0\n",
       "2  fighting with the world is easy u either win o...      0\n",
       "3              otherwise had part time job natuition      0\n",
       "4  okay no no just shining on that was meant to b...      0"
      ]
     },
     "execution_count": 30,
     "metadata": {},
     "output_type": "execute_result"
    }
   ],
   "source": [
    "# temp_label = []\n",
    "# for i in labels:\n",
    "#     if i == 'spam':\n",
    "#        temp_label.append(0)\n",
    "#     else:\n",
    "#        temp_label.append(1)\n",
    "final_df.head()\n"
   ]
  },
  {
   "cell_type": "code",
   "execution_count": 31,
   "id": "20ca3d01-004b-45d9-8089-397c2e394816",
   "metadata": {},
   "outputs": [
    {
     "name": "stdout",
     "output_type": "stream",
     "text": [
      "[4, 16, 36, 64, 81, 36, 16]\n"
     ]
    }
   ],
   "source": [
    "lst = [2,4,6,8,9,6,4]\n",
    "sq =[]\n",
    "for item in lst:\n",
    "    sq.append(item ** 2)\n",
    "print(sq)"
   ]
  },
  {
   "cell_type": "code",
   "execution_count": 32,
   "id": "9aff50ce-10ac-4795-bf36-696bf74d5339",
   "metadata": {},
   "outputs": [
    {
     "data": {
      "text/plain": [
       "[4, 16, 36, 64, 81, 36, 16]"
      ]
     },
     "execution_count": 32,
     "metadata": {},
     "output_type": "execute_result"
    }
   ],
   "source": [
    "[ item ** 2 for item in lst]"
   ]
  },
  {
   "cell_type": "code",
   "execution_count": 33,
   "id": "56ef2ab9-d443-4f27-8f79-cf7e16365514",
   "metadata": {},
   "outputs": [],
   "source": [
    "labels = [1 if item == \"spam\" else 0 for item in labels]\n",
    "# this is list comprehension"
   ]
  },
  {
   "cell_type": "markdown",
   "id": "51b5bf8c-ba46-4e64-b4c8-dead9643d93c",
   "metadata": {},
   "source": [
    "# changed"
   ]
  },
  {
   "cell_type": "code",
   "execution_count": 34,
   "id": "7e6c3cab-3de9-4432-95bb-8ca68d87c52d",
   "metadata": {},
   "outputs": [],
   "source": [
    "x = final_df['email_message']\n",
    "y = final_df['label']"
   ]
  },
  {
   "cell_type": "code",
   "execution_count": 35,
   "id": "8d7d933e-00c9-43c6-8b17-0e79788e822e",
   "metadata": {},
   "outputs": [],
   "source": [
    "# type(x)\n",
    "x=x.values"
   ]
  },
  {
   "cell_type": "code",
   "execution_count": 36,
   "id": "71e5f92d-b090-4820-8c83-ad00b9cebb75",
   "metadata": {},
   "outputs": [],
   "source": [
    "bow_obj = CountVectorizer(max_features=1500, stop_words='english')\n",
    "# stopwords \n"
   ]
  },
  {
   "cell_type": "code",
   "execution_count": 37,
   "id": "13d7e560-0ebd-462d-8498-4988d5e1f08c",
   "metadata": {},
   "outputs": [
    {
     "data": {
      "text/plain": [
       "<Compressed Sparse Row sparse matrix of dtype 'int64'\n",
       "\twith 12758 stored elements and shape (1747, 1500)>"
      ]
     },
     "execution_count": 37,
     "metadata": {},
     "output_type": "execute_result"
    }
   ],
   "source": [
    "X = bow_obj.fit_transform(x)\n",
    "X \n",
    "# X.toarray()\n",
    "# Q) 1747x1500, x has an arr (1747x1500 --shape) "
   ]
  },
  {
   "cell_type": "code",
   "execution_count": 38,
   "id": "159b79be-0c9f-4123-9320-9149eff0dda8",
   "metadata": {},
   "outputs": [],
   "source": [
    "X=X.toarray()\n",
    "# sparse and dense matrix imp queation."
   ]
  },
  {
   "cell_type": "code",
   "execution_count": 39,
   "id": "d11cbe74-9b6b-4ec3-82d6-0052f199d3e9",
   "metadata": {},
   "outputs": [],
   "source": [
    "# CountVectorizer how it changed into numerical\n",
    "# recording of 20/6 not done"
   ]
  },
  {
   "cell_type": "code",
   "execution_count": 40,
   "id": "f49aced3-e5c2-4ab9-879a-5e9920d4cc33",
   "metadata": {},
   "outputs": [
    {
     "data": {
      "text/plain": [
       "((1747, 1500), (1747,))"
      ]
     },
     "execution_count": 40,
     "metadata": {},
     "output_type": "execute_result"
    }
   ],
   "source": [
    "X.shape, y.shape # 1747 should be same imp"
   ]
  },
  {
   "cell_type": "code",
   "execution_count": 41,
   "id": "90f5a15c-2513-45ab-b8fb-1d929bbb5739",
   "metadata": {},
   "outputs": [],
   "source": [
    "from sklearn.model_selection import train_test_split"
   ]
  },
  {
   "cell_type": "code",
   "execution_count": 42,
   "id": "04fb9a01-882e-4b33-b0c0-52f4a5e07689",
   "metadata": {},
   "outputs": [],
   "source": [
    "x_train,x_test,y_train,y_test = train_test_split(X,y, test_size=0.15)"
   ]
  },
  {
   "cell_type": "code",
   "execution_count": 43,
   "id": "ba1ad806-bca3-4534-b4fd-b89c193e82a1",
   "metadata": {},
   "outputs": [
    {
     "data": {
      "text/plain": [
       "(1484, 1500)"
      ]
     },
     "execution_count": 43,
     "metadata": {},
     "output_type": "execute_result"
    }
   ],
   "source": [
    "x_train.shape"
   ]
  },
  {
   "cell_type": "code",
   "execution_count": 44,
   "id": "3d74eb5b-120b-4a8e-8068-9b60c4b65c97",
   "metadata": {},
   "outputs": [],
   "source": [
    "# Algorihms to perform classification task\n",
    "from sklearn.naive_bayes import BernoulliNB, GaussianNB, MultinomialNB\n",
    "from sklearn.tree import DecisionTreeClassifier\n",
    "from sklearn.ensemble import RandomForestClassifier\n",
    "from sklearn.linear_model import LogisticRegression"
   ]
  },
  {
   "cell_type": "code",
   "execution_count": 45,
   "id": "ede54fc8-ca70-4284-9146-89ac89b49a35",
   "metadata": {},
   "outputs": [],
   "source": [
    "bnb = BernoulliNB()\n",
    "Gnb = GaussianNB()\n",
    "mnb = MultinomialNB()"
   ]
  },
  {
   "cell_type": "code",
   "execution_count": 46,
   "id": "eb552a25-2b72-4be1-b14c-58e5d0cb3ec1",
   "metadata": {},
   "outputs": [
    {
     "name": "stdout",
     "output_type": "stream",
     "text": [
      "BernoulliNB Trained\n",
      "GaussianNB Trained\n",
      "MultinomialNB Trained\n",
      "Algorithms training\n"
     ]
    }
   ],
   "source": [
    "#Training Algorithms\n",
    "bnb.fit(x_train, y_train)\n",
    "print(\"BernoulliNB Trained\")\n",
    "mnb.fit(x_train, y_train)\n",
    "print(\"GaussianNB Trained\")\n",
    "Gnb.fit(x_train, y_train)\n",
    "print(\"MultinomialNB Trained\")\n",
    "print(\"Algorithms training\")"
   ]
  },
  {
   "cell_type": "code",
   "execution_count": 47,
   "id": "ce4ac037-2b10-4afb-9aeb-f6e1302b83fe",
   "metadata": {},
   "outputs": [
    {
     "name": "stdout",
     "output_type": "stream",
     "text": [
      "MultinomialNB score 0.9663072776280324\n",
      "MultinomialNB score 0.9467680608365019\n",
      "\n",
      "BernoulliNB score 0.9609164420485176\n",
      "BernoulliNB score 0.9315589353612167\n",
      "\n",
      "GaussianNB score 0.9824797843665768\n",
      "GaussianNB score 0.9163498098859315\n"
     ]
    }
   ],
   "source": [
    "print(\"MultinomialNB score\", mnb.score(x_train,y_train))\n",
    "print(\"MultinomialNB score\", mnb.score(x_test,y_test))\n",
    "\n",
    "print()\n",
    "\n",
    "print(\"BernoulliNB score\", bnb.score(x_train,y_train))\n",
    "print(\"BernoulliNB score\", bnb.score(x_test,y_test))\n",
    "\n",
    "print()\n",
    "print(\"GaussianNB score\", Gnb.score(x_train,y_train))\n",
    "print(\"GaussianNB score\", Gnb.score(x_test,y_test))"
   ]
  },
  {
   "cell_type": "code",
   "execution_count": 48,
   "id": "e1ea793f-c910-4a2f-bcf3-df5766193038",
   "metadata": {},
   "outputs": [],
   "source": [
    "#Prediction"
   ]
  },
  {
   "cell_type": "markdown",
   "id": "8e5955f3",
   "metadata": {},
   "source": []
  },
  {
   "cell_type": "code",
   "execution_count": 49,
   "id": "25591770-3394-4bac-8d79-e29e795caeec",
   "metadata": {},
   "outputs": [
    {
     "data": {
      "text/plain": [
       "(263, 1500)"
      ]
     },
     "execution_count": 49,
     "metadata": {},
     "output_type": "execute_result"
    }
   ],
   "source": [
    "x_test.shape"
   ]
  },
  {
   "cell_type": "code",
   "execution_count": 50,
   "id": "6781e00e-8db6-4643-9f6a-2b14f546482b",
   "metadata": {},
   "outputs": [],
   "source": [
    "prediction = mnb.predict(x_test)"
   ]
  },
  {
   "cell_type": "code",
   "execution_count": 51,
   "id": "48017a29-c0ea-4f9d-a87b-4f4a92129a8f",
   "metadata": {},
   "outputs": [
    {
     "data": {
      "text/plain": [
       "array([0, 0, 0, 0, 0, 1, 0, 0, 0, 1, 1, 1, 0, 1, 1, 0, 0, 0, 0, 0, 1, 1,\n",
       "       1, 0, 0, 1, 0, 0, 0, 1, 0, 1, 1, 1, 0, 0, 1, 0, 1, 0, 0, 1, 0, 0,\n",
       "       0, 0, 0, 0, 1, 1, 0, 0, 1, 0, 1, 0, 1, 1, 0, 0, 0, 1, 0, 0, 1, 1,\n",
       "       1, 1, 0, 0, 0, 1, 0, 0, 1, 1, 0, 0, 0, 1, 0, 1, 0, 1, 1, 1, 1, 1,\n",
       "       1, 0, 1, 0, 1, 0, 1, 0, 0, 1, 1, 1, 1, 1, 0, 1, 0, 0, 0, 1, 0, 1,\n",
       "       0, 1, 0, 0, 0, 1, 1, 0, 0, 1, 0, 0, 1, 0, 1, 0, 0, 1, 1, 0, 0, 0,\n",
       "       1, 1, 1, 1, 0, 0, 0, 0, 0, 0, 0, 0, 0, 1, 1, 1, 0, 0, 1, 1, 0, 1,\n",
       "       0, 0, 1, 0, 1, 1, 1, 1, 1, 0, 0, 0, 0, 0, 1, 1, 1, 0, 0, 1, 1, 0,\n",
       "       1, 1, 0, 0, 1, 1, 0, 1, 1, 0, 0, 0, 1, 0, 1, 0, 0, 0, 0, 0, 0, 1,\n",
       "       0, 1, 0, 0, 1, 0, 0, 1, 0, 0, 1, 0, 0, 1, 0, 0, 1, 1, 0, 0, 0, 0,\n",
       "       0, 0, 0, 1, 1, 1, 1, 1, 1, 0, 0, 0, 0, 1, 1, 1, 1, 0, 0, 0, 0, 1,\n",
       "       0, 1, 1, 0, 0, 1, 0, 1, 1, 0, 1, 1, 1, 0, 1, 0, 0, 0, 0, 0, 1],\n",
       "      dtype=int64)"
      ]
     },
     "execution_count": 51,
     "metadata": {},
     "output_type": "execute_result"
    }
   ],
   "source": [
    "prediction"
   ]
  },
  {
   "cell_type": "code",
   "execution_count": 52,
   "id": "af0b1b5a-2022-4118-8dc5-e2c8c48a6195",
   "metadata": {},
   "outputs": [
    {
     "data": {
      "text/html": [
       "<div>\n",
       "<style scoped>\n",
       "    .dataframe tbody tr th:only-of-type {\n",
       "        vertical-align: middle;\n",
       "    }\n",
       "\n",
       "    .dataframe tbody tr th {\n",
       "        vertical-align: top;\n",
       "    }\n",
       "\n",
       "    .dataframe thead th {\n",
       "        text-align: right;\n",
       "    }\n",
       "</style>\n",
       "<table border=\"1\" class=\"dataframe\">\n",
       "  <thead>\n",
       "    <tr style=\"text-align: right;\">\n",
       "      <th></th>\n",
       "      <th>Actual</th>\n",
       "      <th>Prediction</th>\n",
       "    </tr>\n",
       "  </thead>\n",
       "  <tbody>\n",
       "    <tr>\n",
       "      <th>0</th>\n",
       "      <td>0</td>\n",
       "      <td>0</td>\n",
       "    </tr>\n",
       "    <tr>\n",
       "      <th>1</th>\n",
       "      <td>0</td>\n",
       "      <td>0</td>\n",
       "    </tr>\n",
       "    <tr>\n",
       "      <th>2</th>\n",
       "      <td>0</td>\n",
       "      <td>0</td>\n",
       "    </tr>\n",
       "    <tr>\n",
       "      <th>3</th>\n",
       "      <td>0</td>\n",
       "      <td>0</td>\n",
       "    </tr>\n",
       "    <tr>\n",
       "      <th>4</th>\n",
       "      <td>0</td>\n",
       "      <td>0</td>\n",
       "    </tr>\n",
       "    <tr>\n",
       "      <th>5</th>\n",
       "      <td>1</td>\n",
       "      <td>1</td>\n",
       "    </tr>\n",
       "    <tr>\n",
       "      <th>6</th>\n",
       "      <td>0</td>\n",
       "      <td>0</td>\n",
       "    </tr>\n",
       "    <tr>\n",
       "      <th>7</th>\n",
       "      <td>0</td>\n",
       "      <td>0</td>\n",
       "    </tr>\n",
       "    <tr>\n",
       "      <th>8</th>\n",
       "      <td>0</td>\n",
       "      <td>0</td>\n",
       "    </tr>\n",
       "    <tr>\n",
       "      <th>9</th>\n",
       "      <td>1</td>\n",
       "      <td>1</td>\n",
       "    </tr>\n",
       "    <tr>\n",
       "      <th>10</th>\n",
       "      <td>1</td>\n",
       "      <td>1</td>\n",
       "    </tr>\n",
       "    <tr>\n",
       "      <th>11</th>\n",
       "      <td>1</td>\n",
       "      <td>1</td>\n",
       "    </tr>\n",
       "    <tr>\n",
       "      <th>12</th>\n",
       "      <td>0</td>\n",
       "      <td>0</td>\n",
       "    </tr>\n",
       "    <tr>\n",
       "      <th>13</th>\n",
       "      <td>0</td>\n",
       "      <td>1</td>\n",
       "    </tr>\n",
       "    <tr>\n",
       "      <th>14</th>\n",
       "      <td>1</td>\n",
       "      <td>1</td>\n",
       "    </tr>\n",
       "    <tr>\n",
       "      <th>15</th>\n",
       "      <td>0</td>\n",
       "      <td>0</td>\n",
       "    </tr>\n",
       "    <tr>\n",
       "      <th>16</th>\n",
       "      <td>0</td>\n",
       "      <td>0</td>\n",
       "    </tr>\n",
       "    <tr>\n",
       "      <th>17</th>\n",
       "      <td>0</td>\n",
       "      <td>0</td>\n",
       "    </tr>\n",
       "    <tr>\n",
       "      <th>18</th>\n",
       "      <td>0</td>\n",
       "      <td>0</td>\n",
       "    </tr>\n",
       "    <tr>\n",
       "      <th>19</th>\n",
       "      <td>0</td>\n",
       "      <td>0</td>\n",
       "    </tr>\n",
       "    <tr>\n",
       "      <th>20</th>\n",
       "      <td>1</td>\n",
       "      <td>1</td>\n",
       "    </tr>\n",
       "    <tr>\n",
       "      <th>21</th>\n",
       "      <td>0</td>\n",
       "      <td>1</td>\n",
       "    </tr>\n",
       "    <tr>\n",
       "      <th>22</th>\n",
       "      <td>1</td>\n",
       "      <td>1</td>\n",
       "    </tr>\n",
       "    <tr>\n",
       "      <th>23</th>\n",
       "      <td>0</td>\n",
       "      <td>0</td>\n",
       "    </tr>\n",
       "    <tr>\n",
       "      <th>24</th>\n",
       "      <td>0</td>\n",
       "      <td>0</td>\n",
       "    </tr>\n",
       "    <tr>\n",
       "      <th>25</th>\n",
       "      <td>1</td>\n",
       "      <td>1</td>\n",
       "    </tr>\n",
       "    <tr>\n",
       "      <th>26</th>\n",
       "      <td>1</td>\n",
       "      <td>0</td>\n",
       "    </tr>\n",
       "    <tr>\n",
       "      <th>27</th>\n",
       "      <td>0</td>\n",
       "      <td>0</td>\n",
       "    </tr>\n",
       "    <tr>\n",
       "      <th>28</th>\n",
       "      <td>0</td>\n",
       "      <td>0</td>\n",
       "    </tr>\n",
       "    <tr>\n",
       "      <th>29</th>\n",
       "      <td>1</td>\n",
       "      <td>1</td>\n",
       "    </tr>\n",
       "    <tr>\n",
       "      <th>30</th>\n",
       "      <td>0</td>\n",
       "      <td>0</td>\n",
       "    </tr>\n",
       "    <tr>\n",
       "      <th>31</th>\n",
       "      <td>1</td>\n",
       "      <td>1</td>\n",
       "    </tr>\n",
       "    <tr>\n",
       "      <th>32</th>\n",
       "      <td>1</td>\n",
       "      <td>1</td>\n",
       "    </tr>\n",
       "    <tr>\n",
       "      <th>33</th>\n",
       "      <td>1</td>\n",
       "      <td>1</td>\n",
       "    </tr>\n",
       "    <tr>\n",
       "      <th>34</th>\n",
       "      <td>0</td>\n",
       "      <td>0</td>\n",
       "    </tr>\n",
       "    <tr>\n",
       "      <th>35</th>\n",
       "      <td>0</td>\n",
       "      <td>0</td>\n",
       "    </tr>\n",
       "    <tr>\n",
       "      <th>36</th>\n",
       "      <td>1</td>\n",
       "      <td>1</td>\n",
       "    </tr>\n",
       "    <tr>\n",
       "      <th>37</th>\n",
       "      <td>0</td>\n",
       "      <td>0</td>\n",
       "    </tr>\n",
       "    <tr>\n",
       "      <th>38</th>\n",
       "      <td>1</td>\n",
       "      <td>1</td>\n",
       "    </tr>\n",
       "    <tr>\n",
       "      <th>39</th>\n",
       "      <td>0</td>\n",
       "      <td>0</td>\n",
       "    </tr>\n",
       "  </tbody>\n",
       "</table>\n",
       "</div>"
      ],
      "text/plain": [
       "    Actual  Prediction\n",
       "0        0           0\n",
       "1        0           0\n",
       "2        0           0\n",
       "3        0           0\n",
       "4        0           0\n",
       "5        1           1\n",
       "6        0           0\n",
       "7        0           0\n",
       "8        0           0\n",
       "9        1           1\n",
       "10       1           1\n",
       "11       1           1\n",
       "12       0           0\n",
       "13       0           1\n",
       "14       1           1\n",
       "15       0           0\n",
       "16       0           0\n",
       "17       0           0\n",
       "18       0           0\n",
       "19       0           0\n",
       "20       1           1\n",
       "21       0           1\n",
       "22       1           1\n",
       "23       0           0\n",
       "24       0           0\n",
       "25       1           1\n",
       "26       1           0\n",
       "27       0           0\n",
       "28       0           0\n",
       "29       1           1\n",
       "30       0           0\n",
       "31       1           1\n",
       "32       1           1\n",
       "33       1           1\n",
       "34       0           0\n",
       "35       0           0\n",
       "36       1           1\n",
       "37       0           0\n",
       "38       1           1\n",
       "39       0           0"
      ]
     },
     "execution_count": 52,
     "metadata": {},
     "output_type": "execute_result"
    }
   ],
   "source": [
    "pred  =list(prediction)\n",
    "actual = list(y_test)\n",
    "\n",
    "comparison_df = pd.DataFrame({\"Actual\":actual,'Prediction':pred})\n",
    "comparison_df.head(40)"
   ]
  },
  {
   "cell_type": "code",
   "execution_count": 53,
   "id": "641eceac-9484-4f67-805a-eef9589add13",
   "metadata": {},
   "outputs": [],
   "source": [
    "from sklearn.metrics import confusion_matrix, classification_report"
   ]
  },
  {
   "cell_type": "code",
   "execution_count": 54,
   "id": "2261a3e3-866e-4c9e-bef2-444386ae6968",
   "metadata": {},
   "outputs": [
    {
     "data": {
      "text/plain": [
       "array([[139,   6],\n",
       "       [  8, 110]], dtype=int64)"
      ]
     },
     "execution_count": 54,
     "metadata": {},
     "output_type": "execute_result"
    }
   ],
   "source": [
    "matrix = confusion_matrix(comparison_df['Actual'], comparison_df['Prediction'])\n",
    "matrix"
   ]
  },
  {
   "cell_type": "code",
   "execution_count": 55,
   "id": "6e635fd8",
   "metadata": {},
   "outputs": [
    {
     "data": {
      "image/png": "[encoded data removed]",
      "text/plain": [
       "<Figure size 640x480 with 2 Axes>"
      ]
     },
     "metadata": {},
     "output_type": "display_data"
    }
   ],
   "source": [
    "sns.heatmap(matrix, annot=True, fmt='d')\n",
    "plt.title('Confusion matrix on email classification project')\n",
    "plt.show()"
   ]
  },
  {
   "cell_type": "code",
   "execution_count": 56,
   "id": "88ef1f94-2c4a-45b7-9193-8ea02be39585",
   "metadata": {},
   "outputs": [
    {
     "name": "stdout",
     "output_type": "stream",
     "text": [
      "              precision    recall  f1-score   support\n",
      "\n",
      "           0       0.95      0.96      0.95       145\n",
      "           1       0.95      0.93      0.94       118\n",
      "\n",
      "    accuracy                           0.95       263\n",
      "   macro avg       0.95      0.95      0.95       263\n",
      "weighted avg       0.95      0.95      0.95       263\n",
      "\n"
     ]
    }
   ],
   "source": [
    "print(classification_report(comparison_df['Actual'], comparison_df['Prediction']))"
   ]
  },
  {
   "cell_type": "code",
   "execution_count": 57,
   "id": "84480581",
   "metadata": {},
   "outputs": [],
   "source": [
    "# saving the models:-"
   ]
  },
  {
   "cell_type": "code",
   "execution_count": 58,
   "id": "5e57e1b9-fa06-4b2b-a9fb-58c4416e1fce",
   "metadata": {},
   "outputs": [],
   "source": [
    "import os,joblib"
   ]
  },
  {
   "cell_type": "code",
   "execution_count": 59,
   "id": "1e22dc6a-167d-485d-9ff2-4f53a185c62b",
   "metadata": {},
   "outputs": [],
   "source": [
    "os.makedirs('models', exist_ok=True)"
   ]
  },
  {
   "cell_type": "code",
   "execution_count": 60,
   "id": "fa681ba1",
   "metadata": {},
   "outputs": [
    {
     "data": {
      "text/plain": [
       "['./models/multinomialNB,lb']"
      ]
     },
     "execution_count": 60,
     "metadata": {},
     "output_type": "execute_result"
    }
   ],
   "source": [
    "joblib.dump(bnb,\"./models/bernouliNB,lb\")\n",
    "joblib.dump(Gnb,\"./models/gaussianNB,lb\")\n",
    "joblib.dump(mnb,\"./models/multinomialNB,lb\")"
   ]
  },
  {
   "cell_type": "code",
   "execution_count": 61,
   "id": "f9a4b48e",
   "metadata": {},
   "outputs": [
    {
     "data": {
      "text/plain": [
       "['./models/bag_of_words.lb']"
      ]
     },
     "execution_count": 61,
     "metadata": {},
     "output_type": "execute_result"
    }
   ],
   "source": [
    "joblib.dump(bow_obj,'./models/bag_of_words.lb')"
   ]
  },
  {
   "cell_type": "code",
   "execution_count": null,
   "id": "5192c6c8",
   "metadata": {},
   "outputs": [],
   "source": []
  },
  {
   "cell_type": "code",
   "execution_count": null,
   "metadata": {},
   "outputs": [],
   "source": []
  },
  {
   "cell_type": "code",
   "execution_count": null,
   "id": "fbfa8a84",
   "metadata": {},
   "outputs": [],
   "source": []
  },
  {
   "cell_type": "code",
   "execution_count": null,
   "metadata": {},
   "outputs": [],
   "source": []
  },
  {
   "cell_type": "code",
   "execution_count": null,
   "id": "69999f8d",
   "metadata": {},
   "outputs": [],
   "source": []
  },
  {
   "cell_type": "code",
   "execution_count": null,
   "metadata": {},
   "outputs": [],
   "source": []
  },
  {
   "cell_type": "code",
   "execution_count": null,
   "id": "145c1c03",
   "metadata": {},
   "outputs": [],
   "source": []
  },
  {
   "cell_type": "code",
   "execution_count": null,
   "id": "a0eb5c6c",
   "metadata": {},
   "outputs": [],
   "source": []
  },
  {
   "cell_type": "code",
   "execution_count": null,
   "metadata": {},
   "outputs": [],
   "source": []
  },
  {
   "cell_type": "code",
   "execution_count": null,
   "metadata": {},
   "outputs": [],
   "source": []
  },
  {
   "cell_type": "code",
   "execution_count": null,
   "metadata": {},
   "outputs": [],
   "source": []
  },
  {
   "cell_type": "code",
   "execution_count": null,
   "id": "22c066a2",
   "metadata": {},
   "outputs": [],
   "source": []
  }
 ],
 "metadata": {
  "kernelspec": {
   "display_name": "Python 3 (ipykernel)",
   "language": "python",
   "name": "python3"
  },
  "language_info": {
   "codemirror_mode": {
    "name": "ipython",
    "version": 3
   },
   "file_extension": ".py",
   "mimetype": "text/x-python",
   "name": "python",
   "nbconvert_exporter": "python",
   "pygments_lexer": "ipython3",
   "version": "3.10.6"
  }
 },
 "nbformat": 4,
 "nbformat_minor": 5
}
